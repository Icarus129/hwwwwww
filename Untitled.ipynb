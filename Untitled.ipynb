{
 "cells": [
  {
   "cell_type": "code",
   "execution_count": 1,
   "metadata": {},
   "outputs": [
    {
     "name": "stdout",
     "output_type": "stream",
     "text": [
      "height= 23.5\n",
      "weight= 19\n",
      "Perimeter= 21.25\n",
      "Area= 446.5\n"
     ]
    }
   ],
   "source": [
    "height=23.5\n",
    "weight=19\n",
    "print('height='  ,height)\n",
    "print('weight='  ,weight)\n",
    "Perimeter=(height+weight)/2\n",
    "print('Perimeter='  ,Perimeter)\n",
    "Area=height*weight\n",
    "print('Area='  ,Area)"
   ]
  },
  {
   "cell_type": "code",
   "execution_count": 2,
   "metadata": {},
   "outputs": [
    {
     "name": "stdout",
     "output_type": "stream",
     "text": [
      "正三角形邊長10\n",
      "height= 8.660254037844386\n",
      "Area= 43.30127018922193\n"
     ]
    }
   ],
   "source": [
    "s=eval(input(\"正三角形邊長\"))\n",
    "height=(3**(1/2))/2*s\n",
    "print('height='  ,height)\n",
    "Area=(3**(1/2))/4*(s**2)\n",
    "print('Area='  ,Area)"
   ]
  },
  {
   "cell_type": "code",
   "execution_count": 3,
   "metadata": {},
   "outputs": [
    {
     "ename": "NameError",
     "evalue": "name '字' is not defined",
     "output_type": "error",
     "traceback": [
      "\u001b[1;31m---------------------------------------------------------------------------\u001b[0m",
      "\u001b[1;31mNameError\u001b[0m                                 Traceback (most recent call last)",
      "\u001b[1;32m<ipython-input-3-54b130420c4f>\u001b[0m in \u001b[0;36m<module>\u001b[1;34m\u001b[0m\n\u001b[1;32m----> 1\u001b[1;33m \u001b[0m字\u001b[0m\u001b[1;33m\u001b[0m\u001b[1;33m\u001b[0m\u001b[0m\n\u001b[0m",
      "\u001b[1;31mNameError\u001b[0m: name '字' is not defined"
     ]
    }
   ],
   "source": [
    "x(min)=eval(input(\"min\"))\n",
    "y(sec)=eval(input(\"sec\"))\n",
    "z(km)=eval(input(\"km\"))\n",
    "speed=(x/60)+(y/3600)*z/1.6"
   ]
  },
  {
   "cell_type": "code",
   "execution_count": null,
   "metadata": {},
   "outputs": [],
   "source": []
  }
 ],
 "metadata": {
  "kernelspec": {
   "display_name": "Python 3",
   "language": "python",
   "name": "python3"
  },
  "language_info": {
   "codemirror_mode": {
    "name": "ipython",
    "version": 3
   },
   "file_extension": ".py",
   "mimetype": "text/x-python",
   "name": "python",
   "nbconvert_exporter": "python",
   "pygments_lexer": "ipython3",
   "version": "3.7.3"
  }
 },
 "nbformat": 4,
 "nbformat_minor": 2
}
